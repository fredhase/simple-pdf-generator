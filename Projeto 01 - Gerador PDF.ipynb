{
 "cells": [
  {
   "cell_type": "code",
   "execution_count": 4,
   "id": "b03650fc",
   "metadata": {},
   "outputs": [
    {
     "name": "stdout",
     "output_type": "stream",
     "text": [
      "Type the name of the project: Blabla\n",
      "Type the estimated time (in hours): 120\n",
      "Type the value of the work hour: 50\n",
      "Type the project term: 5 meses\n",
      "Budget PDF generated successfully!\n"
     ]
    }
   ],
   "source": [
    "from fpdf import FPDF\n",
    "\n",
    "project = input(\"Type the name of the project: \")\n",
    "time = input(\"Type the estimated time (in hours): \")\n",
    "hour_value = input(\"Type the value of the work hour: \")\n",
    "term = input(\"Type the project term: \")\n",
    "\n",
    "project_value = int(time) * int(hour_value)\n",
    "\n",
    "pdf = FPDF()\n",
    "pdf.add_page()\n",
    "pdf.set_font(\"Arial\")\n",
    "\n",
    "pdf.image(\"template.png\", x = 0, y = 0)\n",
    "pdf.text(115, 145, project)\n",
    "pdf.text(115, 160, time)\n",
    "pdf.text(115, 175, hour_value)\n",
    "pdf.text(115, 190, term)\n",
    "pdf.text(115, 205, str(project_value))\n",
    "\n",
    "pdf.output(\"Project Budget.pdf\")\n",
    "\n",
    "print(\"Budget PDF generated successfully!\")"
   ]
  }
 ],
 "metadata": {
  "kernelspec": {
   "display_name": "Python 3 (ipykernel)",
   "language": "python",
   "name": "python3"
  },
  "language_info": {
   "codemirror_mode": {
    "name": "ipython",
    "version": 3
   },
   "file_extension": ".py",
   "mimetype": "text/x-python",
   "name": "python",
   "nbconvert_exporter": "python",
   "pygments_lexer": "ipython3",
   "version": "3.9.13"
  }
 },
 "nbformat": 4,
 "nbformat_minor": 5
}
