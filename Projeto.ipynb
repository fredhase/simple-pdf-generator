{
 "cells": [
  {
   "cell_type": "markdown",
   "id": "1badf211",
   "metadata": {},
   "source": [
    "### Inputs and variables"
   ]
  },
  {
   "cell_type": "code",
   "execution_count": 1,
   "id": "3b0ac767",
   "metadata": {},
   "outputs": [
    {
     "name": "stdout",
     "output_type": "stream",
     "text": [
      "Type the name of the project: Praça Cloud\n",
      "Type the estimated time (in hours): 300\n",
      "Type the value of the work hour: 200\n",
      "Type the project term: 5 meses\n"
     ]
    }
   ],
   "source": [
    "project = input(\"Type the name of the project: \")\n",
    "time = input(\"Type the estimated time (in hours): \")\n",
    "hour_value = input(\"Type the value of the work hour: \")\n",
    "term = input(\"Type the project term: \")"
   ]
  },
  {
   "cell_type": "markdown",
   "id": "f07ff52b",
   "metadata": {},
   "source": [
    "### Calculations"
   ]
  },
  {
   "cell_type": "code",
   "execution_count": 7,
   "id": "a8dd5947",
   "metadata": {},
   "outputs": [],
   "source": [
    "project_value = int(time) * int(hour_value)"
   ]
  },
  {
   "cell_type": "markdown",
   "id": "f705c02f",
   "metadata": {},
   "source": [
    "### Generating PDF"
   ]
  },
  {
   "cell_type": "code",
   "execution_count": 3,
   "id": "febec3fd",
   "metadata": {},
   "outputs": [
    {
     "name": "stdout",
     "output_type": "stream",
     "text": [
      "Requirement already satisfied: fpdf in c:\\users\\haseg\\anaconda3\\lib\\site-packages (1.7.2)\n"
     ]
    }
   ],
   "source": [
    "!pip install fpdf"
   ]
  },
  {
   "cell_type": "code",
   "execution_count": 5,
   "id": "8f464918",
   "metadata": {},
   "outputs": [],
   "source": [
    "from fpdf import FPDF"
   ]
  },
  {
   "cell_type": "code",
   "execution_count": 8,
   "id": "eeeb23ac",
   "metadata": {},
   "outputs": [
    {
     "name": "stdout",
     "output_type": "stream",
     "text": [
      "Budget PDF generated successfully!\n"
     ]
    }
   ],
   "source": [
    "pdf = FPDF()\n",
    "pdf.add_page()\n",
    "pdf.set_font(\"Arial\")\n",
    "\n",
    "pdf.image(\"template.png\", x = 0, y = 0)\n",
    "pdf.text(115, 145, project)\n",
    "pdf.text(115, 160, time)\n",
    "pdf.text(115, 175, hour_value)\n",
    "pdf.text(115, 190, term)\n",
    "pdf.text(115, 205, str(project_value))\n",
    "\n",
    "pdf.output(\"Project Budget.pdf\")\n",
    "\n",
    "print(\"Budget PDF generated successfully!\")"
   ]
  }
 ],
 "metadata": {
  "kernelspec": {
   "display_name": "Python 3 (ipykernel)",
   "language": "python",
   "name": "python3"
  },
  "language_info": {
   "codemirror_mode": {
    "name": "ipython",
    "version": 3
   },
   "file_extension": ".py",
   "mimetype": "text/x-python",
   "name": "python",
   "nbconvert_exporter": "python",
   "pygments_lexer": "ipython3",
   "version": "3.9.13"
  }
 },
 "nbformat": 4,
 "nbformat_minor": 5
}
